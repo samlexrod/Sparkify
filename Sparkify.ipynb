{
 "cells": [
  {
   "cell_type": "markdown",
   "metadata": {},
   "source": [
    "# Group Level Sparkify"
   ]
  },
  {
   "cell_type": "code",
   "execution_count": 2,
   "metadata": {},
   "outputs": [],
   "source": [
    "# find spark content\n",
    "import findspark\n",
    "findspark.init()\n",
    "\n",
    "# Pre-processing packages\n",
    "import datetime\n",
    "from pyspark.sql import SparkSession\n",
    "from pyspark.sql.functions import udf, desc, col, max as scala_max, sum as scala_sum, split as scala_split\n",
    "from pyspark.sql.functions import size as scala_len\n",
    "from pyspark.sql.functions import sum as scala_sum, unix_timestamp, avg as scala_avg, count as scala_count\n",
    "from pyspark.sql.functions import from_unixtime, col\n",
    "from pyspark.sql.types import DateType, IntegerType\n",
    "from pyspark.sql.types import StringType, BooleanType, TimestampType, ArrayType\n",
    "from pyspark.sql import Window\n",
    "\n",
    "# Machine Learning Packages\n",
    "from pyspark.ml import Pipeline\n",
    "from pyspark.ml.feature import VectorIndexer, VectorAssembler, StringIndexer, IndexToString\n",
    "from pyspark.ml.tuning import ParamGridBuilder, TrainValidationSplit, CrossValidator\n",
    "\n",
    "# Random Forest\n",
    "from pyspark.ml.classification import RandomForestClassifier\n",
    "from pyspark.ml.evaluation import RegressionEvaluator, MulticlassClassificationEvaluator\n",
    "from pyspark.mllib.evaluation import MulticlassMetrics"
   ]
  },
  {
   "cell_type": "code",
   "execution_count": 3,
   "metadata": {
    "run_control": {
     "marked": true
    }
   },
   "outputs": [],
   "source": [
    "# create spark session\n",
    "spark = SparkSession \\\n",
    "    .builder \\\n",
    "    .appName(\"Sparkify\") \\\n",
    "    .getOrCreate()"
   ]
  },
  {
   "cell_type": "markdown",
   "metadata": {},
   "source": [
    "---"
   ]
  },
  {
   "cell_type": "markdown",
   "metadata": {},
   "source": [
    "# Load and Clean Dataset"
   ]
  },
  {
   "cell_type": "code",
   "execution_count": 4,
   "metadata": {},
   "outputs": [],
   "source": [
    "# Read in full sparkify dataset\n",
    "event_data = \"mini_sparkify_event_data.json\"\n",
    "df = spark.read.json(event_data)"
   ]
  },
  {
   "cell_type": "markdown",
   "metadata": {},
   "source": [
    "---"
   ]
  },
  {
   "cell_type": "markdown",
   "metadata": {},
   "source": [
    "# Exploring Data and Pre-processing"
   ]
  },
  {
   "cell_type": "markdown",
   "metadata": {},
   "source": [
    "## Schema"
   ]
  },
  {
   "cell_type": "code",
   "execution_count": 5,
   "metadata": {},
   "outputs": [
    {
     "name": "stdout",
     "output_type": "stream",
     "text": [
      "root\n",
      " |-- artist: string (nullable = true)\n",
      " |-- auth: string (nullable = true)\n",
      " |-- firstName: string (nullable = true)\n",
      " |-- gender: string (nullable = true)\n",
      " |-- itemInSession: long (nullable = true)\n",
      " |-- lastName: string (nullable = true)\n",
      " |-- length: double (nullable = true)\n",
      " |-- level: string (nullable = true)\n",
      " |-- location: string (nullable = true)\n",
      " |-- method: string (nullable = true)\n",
      " |-- page: string (nullable = true)\n",
      " |-- registration: long (nullable = true)\n",
      " |-- sessionId: long (nullable = true)\n",
      " |-- song: string (nullable = true)\n",
      " |-- status: long (nullable = true)\n",
      " |-- ts: long (nullable = true)\n",
      " |-- userAgent: string (nullable = true)\n",
      " |-- userId: string (nullable = true)\n",
      "\n"
     ]
    }
   ],
   "source": [
    "df.printSchema()"
   ]
  },
  {
   "cell_type": "markdown",
   "metadata": {},
   "source": [
    "## Head Example"
   ]
  },
  {
   "cell_type": "code",
   "execution_count": 6,
   "metadata": {},
   "outputs": [
    {
     "data": {
      "text/plain": [
       "[Row(artist='Martha Tilston', auth='Logged In', firstName='Colin', gender='M', itemInSession=50, lastName='Freeman', length=277.89016, level='paid', location='Bakersfield, CA', method='PUT', page='NextSong', registration=1538173362000, sessionId=29, song='Rockpools', status=200, ts=1538352117000, userAgent='Mozilla/5.0 (Windows NT 6.1; WOW64; rv:31.0) Gecko/20100101 Firefox/31.0', userId='30'),\n",
       " Row(artist='Five Iron Frenzy', auth='Logged In', firstName='Micah', gender='M', itemInSession=79, lastName='Long', length=236.09424, level='free', location='Boston-Cambridge-Newton, MA-NH', method='PUT', page='NextSong', registration=1538331630000, sessionId=8, song='Canada', status=200, ts=1538352180000, userAgent='\"Mozilla/5.0 (Windows NT 6.1; WOW64) AppleWebKit/537.36 (KHTML, like Gecko) Chrome/37.0.2062.103 Safari/537.36\"', userId='9')]"
      ]
     },
     "execution_count": 6,
     "metadata": {},
     "output_type": "execute_result"
    }
   ],
   "source": [
    "df.head(2)"
   ]
  },
  {
   "cell_type": "markdown",
   "metadata": {},
   "source": [
    "## Drop Irrelevant"
   ]
  },
  {
   "cell_type": "code",
   "execution_count": 7,
   "metadata": {},
   "outputs": [],
   "source": [
    "drop_list = ['firstName', 'lastName', 'auth', 'method', 'sessionId', 'song', \n",
    "             'status', 'registration', 'userAgent', 'artist', 'itemInSession']\n",
    "\n",
    "for drop in drop_list:\n",
    "    df = df.drop(drop)"
   ]
  },
  {
   "cell_type": "markdown",
   "metadata": {},
   "source": [
    "## Verify Schema"
   ]
  },
  {
   "cell_type": "code",
   "execution_count": 8,
   "metadata": {},
   "outputs": [
    {
     "name": "stdout",
     "output_type": "stream",
     "text": [
      "root\n",
      " |-- gender: string (nullable = true)\n",
      " |-- length: double (nullable = true)\n",
      " |-- level: string (nullable = true)\n",
      " |-- location: string (nullable = true)\n",
      " |-- page: string (nullable = true)\n",
      " |-- ts: long (nullable = true)\n",
      " |-- userId: string (nullable = true)\n",
      "\n"
     ]
    }
   ],
   "source": [
    "df.printSchema()"
   ]
  },
  {
   "cell_type": "markdown",
   "metadata": {},
   "source": [
    "## Gender Distribution"
   ]
  },
  {
   "cell_type": "code",
   "execution_count": 9,
   "metadata": {},
   "outputs": [
    {
     "name": "stdout",
     "output_type": "stream",
     "text": [
      "+------+------+\n",
      "|gender| count|\n",
      "+------+------+\n",
      "|     F|154578|\n",
      "|  null|  8346|\n",
      "|     M|123576|\n",
      "+------+------+\n",
      "\n"
     ]
    }
   ],
   "source": [
    "df.groupBy(\"gender\").count().show()"
   ]
  },
  {
   "cell_type": "markdown",
   "metadata": {},
   "source": [
    "## Location Distribution"
   ]
  },
  {
   "cell_type": "code",
   "execution_count": 10,
   "metadata": {},
   "outputs": [
    {
     "name": "stdout",
     "output_type": "stream",
     "text": [
      "+--------------------+-----+\n",
      "|            location|count|\n",
      "+--------------------+-----+\n",
      "|     Gainesville, FL| 1229|\n",
      "|Atlantic City-Ham...| 2176|\n",
      "|Deltona-Daytona B...|   73|\n",
      "|San Diego-Carlsba...|  754|\n",
      "|Cleveland-Elyria, OH| 1392|\n",
      "|Kingsport-Bristol...| 1863|\n",
      "|New Haven-Milford...| 4007|\n",
      "|Birmingham-Hoover...|   75|\n",
      "|  Corpus Christi, TX|   11|\n",
      "|         Dubuque, IA|  651|\n",
      "|Las Vegas-Henders...| 2042|\n",
      "|Indianapolis-Carm...|  970|\n",
      "|Seattle-Tacoma-Be...|  246|\n",
      "|          Albany, OR|   23|\n",
      "|   Winston-Salem, NC|  819|\n",
      "|     Bakersfield, CA| 1775|\n",
      "|Los Angeles-Long ...|30131|\n",
      "|Minneapolis-St. P...| 2134|\n",
      "|San Francisco-Oak...| 2647|\n",
      "|Phoenix-Mesa-Scot...| 4846|\n",
      "+--------------------+-----+\n",
      "only showing top 20 rows\n",
      "\n"
     ]
    }
   ],
   "source": [
    "df.groupBy(\"location\").count().show()"
   ]
  },
  {
   "cell_type": "markdown",
   "metadata": {},
   "source": [
    "## stateCode Feature Engineering (dropped)"
   ]
  },
  {
   "cell_type": "code",
   "execution_count": 11,
   "metadata": {},
   "outputs": [
    {
     "data": {
      "text/plain": [
       "[Row(stateCode=' IL-IN-WI', location='Chicago-Naperville-Elgin, IL-IN-WI')]"
      ]
     },
     "execution_count": 11,
     "metadata": {},
     "output_type": "execute_result"
    }
   ],
   "source": [
    "df_grp = df.withColumn(\"stateCode\", scala_split(df.location, ',')\\\n",
    "    .getItem(1))\\\n",
    "    .select([\"stateCode\", 'location'])\\\n",
    "    .distinct()\n",
    "\n",
    "df_grp.filter(df_grp.stateCode == ' IL-IN-WI').collect()"
   ]
  },
  {
   "cell_type": "markdown",
   "metadata": {},
   "source": [
    "> It contains multiple locations."
   ]
  },
  {
   "cell_type": "markdown",
   "metadata": {},
   "source": [
    "## multiState Feature Engineering"
   ]
  },
  {
   "cell_type": "code",
   "execution_count": 12,
   "metadata": {},
   "outputs": [
    {
     "name": "stdout",
     "output_type": "stream",
     "text": [
      "+----------+\n",
      "|multiState|\n",
      "+----------+\n",
      "|         1|\n",
      "|         0|\n",
      "+----------+\n",
      "\n",
      "+------+---------+-----+---------------+-------------+------+----------+\n",
      "|gender|   length|level|           page|           ts|userId|multiState|\n",
      "+------+---------+-----+---------------+-------------+------+----------+\n",
      "|     M|277.89016| paid|       NextSong|1538352117000|    30|         0|\n",
      "|     M|236.09424| free|       NextSong|1538352180000|     9|         1|\n",
      "|     M| 282.8273| paid|       NextSong|1538352394000|    30|         0|\n",
      "|     M|262.71302| free|       NextSong|1538352416000|     9|         1|\n",
      "|     M|223.60771| paid|       NextSong|1538352676000|    30|         0|\n",
      "|     M|208.29995| free|       NextSong|1538352678000|     9|         1|\n",
      "|     M|260.46649| free|       NextSong|1538352886000|     9|         1|\n",
      "|     M|185.44281| paid|       NextSong|1538352899000|    30|         0|\n",
      "|     M|     null| paid|Add to Playlist|1538352905000|    30|         0|\n",
      "|     M|134.47791| paid|       NextSong|1538353084000|    30|         0|\n",
      "|     M| 229.8771| free|       NextSong|1538353146000|     9|         1|\n",
      "|     M|     null| free|    Roll Advert|1538353150000|     9|         1|\n",
      "|     M|223.58159| paid|       NextSong|1538353218000|    30|         0|\n",
      "|     M|201.06404| free|       NextSong|1538353375000|     9|         1|\n",
      "|     M|     null| free|      Thumbs Up|1538353376000|     9|         1|\n",
      "|     M|246.69995| paid|       NextSong|1538353441000|    30|         0|\n",
      "|     M|168.64608| free|       NextSong|1538353576000|     9|         1|\n",
      "|     F| 166.1122| free|       NextSong|1538353668000|    74|         0|\n",
      "|     M|222.22322| paid|       NextSong|1538353687000|    30|         0|\n",
      "|     M|229.77261| free|       NextSong|1538353744000|     9|         1|\n",
      "+------+---------+-----+---------------+-------------+------+----------+\n",
      "only showing top 20 rows\n",
      "\n"
     ]
    }
   ],
   "source": [
    "multi_state_indicator = udf(lambda x: 1 if x > 1 else 0, IntegerType())\n",
    "\n",
    "df = df.withColumn(\"stateCode\", scala_split(df.location, ',').getItem(1)).drop('location')\n",
    "df = df.withColumn(\"multiState\", multi_state_indicator(scala_len(scala_split(df.stateCode, '-')))).drop('stateCode')\n",
    "df.select('multiState').distinct().show()\n",
    "df.show()"
   ]
  },
  {
   "cell_type": "markdown",
   "metadata": {},
   "source": [
    "## Page Unique Values"
   ]
  },
  {
   "cell_type": "code",
   "execution_count": 13,
   "metadata": {},
   "outputs": [
    {
     "name": "stdout",
     "output_type": "stream",
     "text": [
      "+--------------------+\n",
      "|                page|\n",
      "+--------------------+\n",
      "|              Cancel|\n",
      "|    Submit Downgrade|\n",
      "|         Thumbs Down|\n",
      "|                Home|\n",
      "|           Downgrade|\n",
      "|         Roll Advert|\n",
      "|              Logout|\n",
      "|       Save Settings|\n",
      "|Cancellation Conf...|\n",
      "|               About|\n",
      "| Submit Registration|\n",
      "|            Settings|\n",
      "|               Login|\n",
      "|            Register|\n",
      "|     Add to Playlist|\n",
      "|          Add Friend|\n",
      "|            NextSong|\n",
      "|           Thumbs Up|\n",
      "|                Help|\n",
      "|             Upgrade|\n",
      "|               Error|\n",
      "|      Submit Upgrade|\n",
      "+--------------------+\n",
      "\n"
     ]
    }
   ],
   "source": [
    "df.select(\"page\").distinct().show(100)"
   ]
  },
  {
   "cell_type": "markdown",
   "metadata": {
    "toc-hr-collapsed": false
   },
   "source": [
    "# More Pre-processing"
   ]
  },
  {
   "cell_type": "markdown",
   "metadata": {},
   "source": [
    "## Cleaning Date"
   ]
  },
  {
   "cell_type": "code",
   "execution_count": 14,
   "metadata": {
    "scrolled": false
   },
   "outputs": [],
   "source": [
    "# date addition\n",
    "to_datetime = udf(lambda x: datetime.datetime.fromtimestamp(x/1000).strftime(\"%Y-%m-%d\"))\n",
    "df = df.withColumn(\"date\", to_datetime(df.ts))\n",
    "\n",
    "# datime addition\n",
    "to_datetime = udf(lambda x: datetime.datetime.fromtimestamp(x/1000).isoformat())\n",
    "df = df.withColumn(\"datetime\", to_datetime(df.ts))"
   ]
  },
  {
   "cell_type": "markdown",
   "metadata": {},
   "source": [
    "---"
   ]
  },
  {
   "cell_type": "markdown",
   "metadata": {
    "toc-hr-collapsed": false
   },
   "source": [
    "## Cancellation Phase"
   ]
  },
  {
   "cell_type": "code",
   "execution_count": 15,
   "metadata": {},
   "outputs": [],
   "source": [
    "# window function for values unbounded preceding the label\n",
    "window_fun = (Window.partitionBy(\"userId\")\n",
    "             .orderBy(desc(\"ts\"))\n",
    "             .rangeBetween(Window.unboundedPreceding, 0))\n",
    "\n",
    "# flagging cancellations\n",
    "def user_defined_function(phase): \n",
    "    return udf(lambda x: \n",
    "               1 if x == phase\n",
    "               else 0, IntegerType())\n",
    "    \n",
    "flag_cancel_func = user_defined_function(\"Cancellation Confirmation\")\n",
    "\n",
    "# adding downgrade indicator indicator\n",
    "df = df.withColumn(\"cancel_ind\", flag_cancel_func(\"page\"))\n",
    "\n",
    "# adding churn flag\n",
    "df = df.withColumn(\"cancel_user\", \n",
    "                   scala_sum(\"cancel_ind\").over(window_fun))"
   ]
  },
  {
   "cell_type": "markdown",
   "metadata": {},
   "source": [
    "---"
   ]
  },
  {
   "cell_type": "markdown",
   "metadata": {},
   "source": [
    "## Downgrade Phase"
   ]
  },
  {
   "cell_type": "code",
   "execution_count": 16,
   "metadata": {},
   "outputs": [],
   "source": [
    "# flagging downgrades\n",
    "flag_downgraded_func = user_defined_function(\"Submit Downgrade\")\n",
    "\n",
    "# adding indicator\n",
    "df = df.withColumn(\"downgrade_ind\", flag_downgraded_func(\"page\"))\n",
    "\n",
    "# sum flags over the window statement\n",
    "df = df.withColumn(\"downgrade_phase\", \n",
    "                   scala_sum(\"downgrade_ind\").over(window_fun))"
   ]
  },
  {
   "cell_type": "markdown",
   "metadata": {},
   "source": [
    "---"
   ]
  },
  {
   "cell_type": "markdown",
   "metadata": {
    "toc-hr-collapsed": false
   },
   "source": [
    "## Period Between Downgrade"
   ]
  },
  {
   "cell_type": "markdown",
   "metadata": {},
   "source": [
    "### Period Spark Version"
   ]
  },
  {
   "cell_type": "code",
   "execution_count": 17,
   "metadata": {
    "scrolled": true
   },
   "outputs": [],
   "source": [
    "# period_function = udf(lambda page: int(page=='Downgrade'), IntegerType())\n",
    "\n",
    "# over_ts_func = (Window.partitionBy(\"userId\")\n",
    "#     .orderBy(desc(\"ts\"))\n",
    "#     .rangeBetween(Window.unboundedPreceding, 0))\n",
    "\n",
    "# df_ready = (df.filter((df.page == 'NextSong') | (df.page == 'Downgrade'))\n",
    "#     .select([\"userId\", \"page\", \"gender\", \"length\", \"ts\", \"multiState\", \"level\", \"date\", \"cancel_user\"])\n",
    "#     .withColumn(\"downgrade_ind\", period_function(col(\"page\")))\n",
    "#     .withColumn(\"period\", scala_sum(\"downgrade_ind\").over(over_ts_func))\n",
    "# )"
   ]
  },
  {
   "cell_type": "markdown",
   "metadata": {},
   "source": [
    "### Period SQL Version"
   ]
  },
  {
   "cell_type": "code",
   "execution_count": 18,
   "metadata": {
    "scrolled": true
   },
   "outputs": [
    {
     "data": {
      "text/plain": [
       "Row(userId='100010', page='NextSong', gender='F', level='free', length=185.25995, date='2018-11-21', ts=1542823951000, multiState=0, cancel_user=0, downgrade_period=0)"
      ]
     },
     "execution_count": 18,
     "metadata": {},
     "output_type": "execute_result"
    }
   ],
   "source": [
    "df.createOrReplaceTempView(\"sparkify_table\")\n",
    "\n",
    "downgrade_indicator = spark.sql(\"\"\"\n",
    "SELECT \n",
    "    userId, \n",
    "    page, \n",
    "    gender,\n",
    "    level,\n",
    "    length,\n",
    "    date,\n",
    "    ts,\n",
    "    multiState,\n",
    "    CASE \n",
    "        WHEN page = 'Downgrade' \n",
    "        THEN 1 \n",
    "        ELSE 0 \n",
    "    END AS downgrade_ind,\n",
    "    cancel_user\n",
    "FROM sparkify_table\n",
    "WHERE (page = 'NextSong') or (page = 'Downgrade')\n",
    "\"\"\")\n",
    "\n",
    "downgrade_indicator.createOrReplaceTempView('downgrade_table')\n",
    "\n",
    "df_ready = spark.sql(\"\"\"\n",
    "SELECT\n",
    "    *,\n",
    "    SUM(downgrade_ind)\n",
    "    OVER(PARTITION BY userId \n",
    "        ORDER BY ts DESC \n",
    "        ROWS BETWEEN UNBOUNDED PRECEDING AND CURRENT ROW) AS downgrade_period\n",
    "FROM downgrade_table\n",
    "--WHERE userId = 200011\n",
    "\"\"\")\n",
    "\n",
    "df_ready = df_ready.drop('downgrade_ind')\n",
    "\n",
    "df_ready.head()"
   ]
  },
  {
   "cell_type": "markdown",
   "metadata": {},
   "source": [
    "## Downgrade and Cancelation Descriptive Statistics"
   ]
  },
  {
   "cell_type": "code",
   "execution_count": 92,
   "metadata": {},
   "outputs": [],
   "source": [
    "df_explore = df_ready.groupBy([\"userId\", \"gender\"]).agg(scala_max(col(\"cancel_user\")).alias(\"canceled\"), \n",
    "                                           scala_max(col(\"downgrade_period\")).alias(\"downgrade_attempts\"),\n",
    "                                           scala_count(col(\"length\")).alias(\"listened_songs\"))"
   ]
  },
  {
   "cell_type": "code",
   "execution_count": 93,
   "metadata": {},
   "outputs": [],
   "source": [
    "import seaborn as sns\n",
    "import matplotlib.pyplot as plt"
   ]
  },
  {
   "cell_type": "code",
   "execution_count": 94,
   "metadata": {},
   "outputs": [
    {
     "name": "stdout",
     "output_type": "stream",
     "text": [
      "root\n",
      " |-- userId: string (nullable = true)\n",
      " |-- gender: string (nullable = true)\n",
      " |-- canceled: long (nullable = true)\n",
      " |-- downgrade_attempts: long (nullable = true)\n",
      " |-- listened_songs: long (nullable = false)\n",
      "\n"
     ]
    }
   ],
   "source": [
    "df_explore.printSchema()"
   ]
  },
  {
   "cell_type": "code",
   "execution_count": 95,
   "metadata": {},
   "outputs": [
    {
     "name": "stdout",
     "output_type": "stream",
     "text": [
      "There are 225 number of users from which we are doing churn prediction.\n"
     ]
    }
   ],
   "source": [
    "user_count = df_explore.select(\"userId\").distinct().count()\n",
    "print(f\"There are {user_count} number of users from which we are doing churn prediction.\")"
   ]
  },
  {
   "cell_type": "markdown",
   "metadata": {},
   "source": [
    "### Canceled Users By Gender"
   ]
  },
  {
   "cell_type": "code",
   "execution_count": 96,
   "metadata": {},
   "outputs": [],
   "source": [
    "c_bygen = df_explore\\\n",
    "    .groupBy(\"gender\")\\\n",
    "    .agg(scala_sum(col(\"canceled\")).alias('canceled'), \n",
    "         scala_count(col(\"userId\")).alias('user_count')).toPandas()\\\n",
    "    .assign(cancel_percent = lambda x: x.canceled/x.user_count)"
   ]
  },
  {
   "cell_type": "code",
   "execution_count": 97,
   "metadata": {},
   "outputs": [
    {
     "data": {
      "image/png": "[encoded data removed]",
      "text/plain": [
       "<Figure size 1008x144 with 1 Axes>"
      ]
     },
     "metadata": {},
     "output_type": "display_data"
    },
    {
     "data": {
      "image/png": "[encoded data removed]",
      "text/plain": [
       "<Figure size 432x288 with 1 Axes>"
      ]
     },
     "metadata": {},
     "output_type": "display_data"
    }
   ],
   "source": [
    "f, ax = plt.subplots(figsize=(14, 2))\n",
    "\n",
    "sns.set(style=\"whitegrid\")\n",
    "\n",
    "plt.title(\"Cancel Users\", size=20)\n",
    "sns.set_color_codes(\"pastel\")\n",
    "sns.barplot(y='gender', x='user_count', data=c_bygen, label='user_count', color='b')\n",
    "\n",
    "sns.set_color_codes(\"muted\")\n",
    "sns.barplot(y='gender', x='canceled', data=c_bygen, label='canceled', color='b')\n",
    "\n",
    "# Add a legend and informative axis label\n",
    "ax.legend(ncol=3, loc=\"best\", frameon=True)\n",
    "plt.show()\n",
    "\n",
    "plt.title(\"Cancel Users Percentage by Gender\", size=20)\n",
    "sns.barplot(y='gender', x='cancel_percent', data=c_bygen)\n",
    "plt.show()"
   ]
  },
  {
   "cell_type": "markdown",
   "metadata": {},
   "source": [
    "> More males have canceled the services."
   ]
  },
  {
   "cell_type": "markdown",
   "metadata": {},
   "source": [
    "### Downgraded Attempts Cancelled"
   ]
  },
  {
   "cell_type": "code",
   "execution_count": 98,
   "metadata": {},
   "outputs": [],
   "source": [
    "d_attempt = df_explore\\\n",
    "    .groupBy([\"downgrade_attempts\", \"canceled\"])\\\n",
    "    .count()\\\n",
    "    .select([\"downgrade_attempts\", \"canceled\"]).toPandas()"
   ]
  },
  {
   "cell_type": "code",
   "execution_count": 100,
   "metadata": {},
   "outputs": [
    {
     "data": {
      "text/html": [
       "<div>\n",
       "<style scoped>\n",
       "    .dataframe tbody tr th:only-of-type {\n",
       "        vertical-align: middle;\n",
       "    }\n",
       "\n",
       "    .dataframe tbody tr th {\n",
       "        vertical-align: top;\n",
       "    }\n",
       "\n",
       "    .dataframe thead tr th {\n",
       "        text-align: left;\n",
       "    }\n",
       "\n",
       "    .dataframe thead tr:last-of-type th {\n",
       "        text-align: right;\n",
       "    }\n",
       "</style>\n",
       "<table border=\"1\" class=\"dataframe\">\n",
       "  <thead>\n",
       "    <tr>\n",
       "      <th></th>\n",
       "      <th colspan=\"2\" halign=\"left\">canceled</th>\n",
       "    </tr>\n",
       "    <tr>\n",
       "      <th></th>\n",
       "      <th>sum</th>\n",
       "      <th>count</th>\n",
       "    </tr>\n",
       "    <tr>\n",
       "      <th>downgrade_attempts</th>\n",
       "      <th></th>\n",
       "      <th></th>\n",
       "    </tr>\n",
       "  </thead>\n",
       "  <tbody>\n",
       "    <tr>\n",
       "      <th>0</th>\n",
       "      <td>1</td>\n",
       "      <td>2</td>\n",
       "    </tr>\n",
       "    <tr>\n",
       "      <th>1</th>\n",
       "      <td>1</td>\n",
       "      <td>2</td>\n",
       "    </tr>\n",
       "    <tr>\n",
       "      <th>2</th>\n",
       "      <td>1</td>\n",
       "      <td>2</td>\n",
       "    </tr>\n",
       "    <tr>\n",
       "      <th>3</th>\n",
       "      <td>1</td>\n",
       "      <td>2</td>\n",
       "    </tr>\n",
       "    <tr>\n",
       "      <th>4</th>\n",
       "      <td>1</td>\n",
       "      <td>1</td>\n",
       "    </tr>\n",
       "    <tr>\n",
       "      <th>5</th>\n",
       "      <td>1</td>\n",
       "      <td>2</td>\n",
       "    </tr>\n",
       "    <tr>\n",
       "      <th>6</th>\n",
       "      <td>1</td>\n",
       "      <td>2</td>\n",
       "    </tr>\n",
       "    <tr>\n",
       "      <th>7</th>\n",
       "      <td>1</td>\n",
       "      <td>2</td>\n",
       "    </tr>\n",
       "    <tr>\n",
       "      <th>8</th>\n",
       "      <td>1</td>\n",
       "      <td>2</td>\n",
       "    </tr>\n",
       "    <tr>\n",
       "      <th>9</th>\n",
       "      <td>1</td>\n",
       "      <td>2</td>\n",
       "    </tr>\n",
       "    <tr>\n",
       "      <th>10</th>\n",
       "      <td>1</td>\n",
       "      <td>2</td>\n",
       "    </tr>\n",
       "    <tr>\n",
       "      <th>11</th>\n",
       "      <td>0</td>\n",
       "      <td>1</td>\n",
       "    </tr>\n",
       "    <tr>\n",
       "      <th>12</th>\n",
       "      <td>1</td>\n",
       "      <td>2</td>\n",
       "    </tr>\n",
       "    <tr>\n",
       "      <th>13</th>\n",
       "      <td>1</td>\n",
       "      <td>2</td>\n",
       "    </tr>\n",
       "    <tr>\n",
       "      <th>14</th>\n",
       "      <td>0</td>\n",
       "      <td>1</td>\n",
       "    </tr>\n",
       "    <tr>\n",
       "      <th>15</th>\n",
       "      <td>1</td>\n",
       "      <td>2</td>\n",
       "    </tr>\n",
       "    <tr>\n",
       "      <th>16</th>\n",
       "      <td>0</td>\n",
       "      <td>1</td>\n",
       "    </tr>\n",
       "    <tr>\n",
       "      <th>17</th>\n",
       "      <td>0</td>\n",
       "      <td>1</td>\n",
       "    </tr>\n",
       "    <tr>\n",
       "      <th>18</th>\n",
       "      <td>1</td>\n",
       "      <td>2</td>\n",
       "    </tr>\n",
       "    <tr>\n",
       "      <th>19</th>\n",
       "      <td>0</td>\n",
       "      <td>1</td>\n",
       "    </tr>\n",
       "    <tr>\n",
       "      <th>20</th>\n",
       "      <td>0</td>\n",
       "      <td>1</td>\n",
       "    </tr>\n",
       "    <tr>\n",
       "      <th>21</th>\n",
       "      <td>0</td>\n",
       "      <td>1</td>\n",
       "    </tr>\n",
       "    <tr>\n",
       "      <th>22</th>\n",
       "      <td>1</td>\n",
       "      <td>2</td>\n",
       "    </tr>\n",
       "    <tr>\n",
       "      <th>23</th>\n",
       "      <td>1</td>\n",
       "      <td>2</td>\n",
       "    </tr>\n",
       "    <tr>\n",
       "      <th>24</th>\n",
       "      <td>0</td>\n",
       "      <td>1</td>\n",
       "    </tr>\n",
       "    <tr>\n",
       "      <th>25</th>\n",
       "      <td>0</td>\n",
       "      <td>1</td>\n",
       "    </tr>\n",
       "    <tr>\n",
       "      <th>26</th>\n",
       "      <td>1</td>\n",
       "      <td>2</td>\n",
       "    </tr>\n",
       "    <tr>\n",
       "      <th>27</th>\n",
       "      <td>0</td>\n",
       "      <td>1</td>\n",
       "    </tr>\n",
       "    <tr>\n",
       "      <th>28</th>\n",
       "      <td>0</td>\n",
       "      <td>1</td>\n",
       "    </tr>\n",
       "    <tr>\n",
       "      <th>30</th>\n",
       "      <td>0</td>\n",
       "      <td>1</td>\n",
       "    </tr>\n",
       "    <tr>\n",
       "      <th>31</th>\n",
       "      <td>0</td>\n",
       "      <td>1</td>\n",
       "    </tr>\n",
       "    <tr>\n",
       "      <th>32</th>\n",
       "      <td>0</td>\n",
       "      <td>1</td>\n",
       "    </tr>\n",
       "    <tr>\n",
       "      <th>37</th>\n",
       "      <td>0</td>\n",
       "      <td>1</td>\n",
       "    </tr>\n",
       "    <tr>\n",
       "      <th>39</th>\n",
       "      <td>1</td>\n",
       "      <td>1</td>\n",
       "    </tr>\n",
       "    <tr>\n",
       "      <th>41</th>\n",
       "      <td>0</td>\n",
       "      <td>1</td>\n",
       "    </tr>\n",
       "    <tr>\n",
       "      <th>42</th>\n",
       "      <td>0</td>\n",
       "      <td>1</td>\n",
       "    </tr>\n",
       "    <tr>\n",
       "      <th>44</th>\n",
       "      <td>0</td>\n",
       "      <td>1</td>\n",
       "    </tr>\n",
       "    <tr>\n",
       "      <th>50</th>\n",
       "      <td>0</td>\n",
       "      <td>1</td>\n",
       "    </tr>\n",
       "    <tr>\n",
       "      <th>68</th>\n",
       "      <td>0</td>\n",
       "      <td>1</td>\n",
       "    </tr>\n",
       "    <tr>\n",
       "      <th>73</th>\n",
       "      <td>0</td>\n",
       "      <td>1</td>\n",
       "    </tr>\n",
       "  </tbody>\n",
       "</table>\n",
       "</div>"
      ],
      "text/plain": [
       "                   canceled      \n",
       "                        sum count\n",
       "downgrade_attempts               \n",
       "0                         1     2\n",
       "1                         1     2\n",
       "2                         1     2\n",
       "3                         1     2\n",
       "4                         1     1\n",
       "5                         1     2\n",
       "6                         1     2\n",
       "7                         1     2\n",
       "8                         1     2\n",
       "9                         1     2\n",
       "10                        1     2\n",
       "11                        0     1\n",
       "12                        1     2\n",
       "13                        1     2\n",
       "14                        0     1\n",
       "15                        1     2\n",
       "16                        0     1\n",
       "17                        0     1\n",
       "18                        1     2\n",
       "19                        0     1\n",
       "20                        0     1\n",
       "21                        0     1\n",
       "22                        1     2\n",
       "23                        1     2\n",
       "24                        0     1\n",
       "25                        0     1\n",
       "26                        1     2\n",
       "27                        0     1\n",
       "28                        0     1\n",
       "30                        0     1\n",
       "31                        0     1\n",
       "32                        0     1\n",
       "37                        0     1\n",
       "39                        1     1\n",
       "41                        0     1\n",
       "42                        0     1\n",
       "44                        0     1\n",
       "50                        0     1\n",
       "68                        0     1\n",
       "73                        0     1"
      ]
     },
     "execution_count": 100,
     "metadata": {},
     "output_type": "execute_result"
    }
   ],
   "source": [
    "d_attempt.groupby(\"downgrade_attempts\").agg({'canceled': ['sum', 'count']})"
   ]
  },
  {
   "cell_type": "markdown",
   "metadata": {},
   "source": [
    "### Multi-State Cacellations"
   ]
  },
  {
   "cell_type": "code",
   "execution_count": null,
   "metadata": {},
   "outputs": [],
   "source": []
  },
  {
   "cell_type": "markdown",
   "metadata": {},
   "source": [
    "## Gender Endoder"
   ]
  },
  {
   "cell_type": "code",
   "execution_count": 18,
   "metadata": {},
   "outputs": [
    {
     "name": "stdout",
     "output_type": "stream",
     "text": [
      "+------+\n",
      "|gender|\n",
      "+------+\n",
      "|     F|\n",
      "|  null|\n",
      "|     M|\n",
      "+------+\n",
      "\n"
     ]
    }
   ],
   "source": [
    "df.select('gender').distinct().show()"
   ]
  },
  {
   "cell_type": "markdown",
   "metadata": {},
   "source": [
    "*null genders will have 0 and 0 for both Male and Female columns."
   ]
  },
  {
   "cell_type": "code",
   "execution_count": 19,
   "metadata": {},
   "outputs": [],
   "source": [
    "male_encoder = udf(lambda x: 1 if x == 'M' else 0, IntegerType())\n",
    "df_ready = df_ready.withColumn(\"Male\", male_encoder(df_ready.gender))\n",
    "\n",
    "female_encoder = udf(lambda x: 1 if x == 'F' else 0, IntegerType())\n",
    "df_ready = df_ready.withColumn(\"Female\", female_encoder(df_ready.gender))\n",
    "\n",
    "df_ready = df_ready.drop('gender')"
   ]
  },
  {
   "cell_type": "markdown",
   "metadata": {},
   "source": [
    "## Level Encoder"
   ]
  },
  {
   "cell_type": "code",
   "execution_count": 20,
   "metadata": {},
   "outputs": [
    {
     "name": "stdout",
     "output_type": "stream",
     "text": [
      "+-----+\n",
      "|level|\n",
      "+-----+\n",
      "| free|\n",
      "| paid|\n",
      "+-----+\n",
      "\n"
     ]
    }
   ],
   "source": [
    "df.select('level').distinct().show()"
   ]
  },
  {
   "cell_type": "code",
   "execution_count": 21,
   "metadata": {},
   "outputs": [],
   "source": [
    "free_encoder = udf(lambda x: 1 if x == 'free' else 0, IntegerType())\n",
    "df_ready = df_ready.withColumn('free', free_encoder(df_ready.level))\n",
    "\n",
    "paid_encoder = udf(lambda x: 1 if x == 'paid' else 0, IntegerType())\n",
    "df_ready = df_ready.withColumn('paid', paid_encoder(df_ready.level))\n",
    "\n",
    "df_ready = df_ready.drop('level')"
   ]
  },
  {
   "cell_type": "markdown",
   "metadata": {},
   "source": [
    "## Feature Engineering"
   ]
  },
  {
   "cell_type": "markdown",
   "metadata": {},
   "source": [
    "### Daily Seconds Used"
   ]
  },
  {
   "cell_type": "code",
   "execution_count": 22,
   "metadata": {},
   "outputs": [
    {
     "name": "stdout",
     "output_type": "stream",
     "text": [
      "root\n",
      " |-- userId: string (nullable = true)\n",
      " |-- page: string (nullable = true)\n",
      " |-- length: double (nullable = true)\n",
      " |-- date: string (nullable = true)\n",
      " |-- ts: long (nullable = true)\n",
      " |-- multiState: integer (nullable = true)\n",
      " |-- cancel_user: long (nullable = true)\n",
      " |-- downgrade_period: long (nullable = true)\n",
      " |-- Male: integer (nullable = true)\n",
      " |-- Female: integer (nullable = true)\n",
      " |-- free: integer (nullable = true)\n",
      " |-- paid: integer (nullable = true)\n",
      "\n"
     ]
    }
   ],
   "source": [
    "df_ready.printSchema()"
   ]
  },
  {
   "cell_type": "code",
   "execution_count": 23,
   "metadata": {},
   "outputs": [],
   "source": [
    "over_date_func = (Window.partitionBy([\"userId\", \"date\"]))\n",
    "\n",
    "# also filtering only on songs\n",
    "df_ready = df_ready.filter((df.page == 'NextSong'))\\\n",
    "    .withColumn(\"DailySeconds\", scala_sum(\"length\").over(over_date_func))\n",
    "\n",
    "df_ready = df_ready.drop('length').drop('page')"
   ]
  },
  {
   "cell_type": "markdown",
   "metadata": {},
   "source": [
    "### Daily Use Count"
   ]
  },
  {
   "cell_type": "code",
   "execution_count": 24,
   "metadata": {},
   "outputs": [],
   "source": [
    "df_ready = df_ready.withColumn(\"DailyUse\", scala_count(\"userId\").over(over_date_func))"
   ]
  },
  {
   "cell_type": "markdown",
   "metadata": {},
   "source": [
    "### Feature Columns"
   ]
  },
  {
   "cell_type": "code",
   "execution_count": 25,
   "metadata": {},
   "outputs": [
    {
     "name": "stdout",
     "output_type": "stream",
     "text": [
      "Feature Columns\n"
     ]
    },
    {
     "data": {
      "text/plain": [
       "['multiState',\n",
       " 'downgrade_period',\n",
       " 'Male',\n",
       " 'Female',\n",
       " 'free',\n",
       " 'paid',\n",
       " 'DailySeconds',\n",
       " 'DailyUse']"
      ]
     },
     "execution_count": 25,
     "metadata": {},
     "output_type": "execute_result"
    }
   ],
   "source": [
    "# get available columns\n",
    "feature_columns = df_ready.columns\n",
    "\n",
    "# removed column\n",
    "for col in ['userId', 'date', 'cancel_user', 'ts']:\n",
    "    feature_columns.remove(col)\n",
    "\n",
    "print(\"Feature Columns\")\n",
    "feature_columns"
   ]
  },
  {
   "cell_type": "markdown",
   "metadata": {},
   "source": [
    "### Table Prep"
   ]
  },
  {
   "cell_type": "code",
   "execution_count": 26,
   "metadata": {},
   "outputs": [],
   "source": [
    "data = df_ready\n",
    "\n",
    "# assembling the predictor features\n",
    "feature_assembler = VectorAssembler(inputCols=feature_columns, outputCol='features')\n",
    "data = feature_assembler.transform(data)\n",
    "\n",
    "# indexing the labels\n",
    "labelIndexer = StringIndexer(inputCol=\"cancel_user\", outputCol=\"indexedLabel\").fit(data)\n",
    "\n",
    "# indexit the features\n",
    "featureIndexer =\\\n",
    "    VectorIndexer(inputCol=\"features\", outputCol=\"indexedFeatures\", maxCategories=4).fit(data)\n",
    "\n",
    "# index to string predictions\n",
    "labelConverter = IndexToString(inputCol=\"prediction\", outputCol=\"predictedLabel\",\n",
    "                               labels=labelIndexer.labels)"
   ]
  },
  {
   "cell_type": "markdown",
   "metadata": {},
   "source": [
    "# Processing"
   ]
  },
  {
   "cell_type": "markdown",
   "metadata": {},
   "source": [
    "### Train & Test Split"
   ]
  },
  {
   "cell_type": "code",
   "execution_count": 27,
   "metadata": {},
   "outputs": [
    {
     "data": {
      "text/plain": [
       "(160001, 68107)"
      ]
     },
     "execution_count": 27,
     "metadata": {},
     "output_type": "execute_result"
    }
   ],
   "source": [
    "trainingData, testData = data.randomSplit([0.7, 0.3], seed=42)\n",
    "trainingData.count(), testData.count()"
   ]
  },
  {
   "cell_type": "markdown",
   "metadata": {},
   "source": [
    "## Random Forest Classifier Model"
   ]
  },
  {
   "cell_type": "markdown",
   "metadata": {},
   "source": [
    "### Pipelines"
   ]
  },
  {
   "cell_type": "code",
   "execution_count": 28,
   "metadata": {},
   "outputs": [],
   "source": [
    "rf = RandomForestClassifier(labelCol=\"indexedLabel\", featuresCol=\"indexedFeatures\")\n",
    "pipeline = Pipeline(stages=[labelIndexer, featureIndexer, rf, labelConverter])"
   ]
  },
  {
   "cell_type": "markdown",
   "metadata": {},
   "source": [
    "### No Validation Model Implementation"
   ]
  },
  {
   "cell_type": "code",
   "execution_count": 29,
   "metadata": {},
   "outputs": [],
   "source": [
    "model = pipeline.fit(trainingData)"
   ]
  },
  {
   "cell_type": "code",
   "execution_count": 30,
   "metadata": {},
   "outputs": [],
   "source": [
    "pred = model.transform(testData)"
   ]
  },
  {
   "cell_type": "code",
   "execution_count": 31,
   "metadata": {},
   "outputs": [
    {
     "name": "stdout",
     "output_type": "stream",
     "text": [
      "accuracy = 84.03%\n",
      "weightedPrecision = 86.59%\n",
      "weightedRecall = 84.03%\n",
      "f1 = 76.89%\n"
     ]
    }
   ],
   "source": [
    "for metric_name in ['accuracy', 'weightedPrecision', 'weightedRecall', 'f1']:\n",
    "    evaluator = MulticlassClassificationEvaluator(\n",
    "    labelCol=\"indexedLabel\", predictionCol=\"prediction\", metricName=metric_name)\n",
    "    accuracy = evaluator.evaluate(pred)\n",
    "    print(f\"{metric_name} = {accuracy:2.2%}\")"
   ]
  },
  {
   "cell_type": "markdown",
   "metadata": {},
   "source": [
    "### Cross Validation Implementation "
   ]
  },
  {
   "cell_type": "code",
   "execution_count": 32,
   "metadata": {},
   "outputs": [],
   "source": [
    "paramGrid = ParamGridBuilder()\\\n",
    "    .addGrid(rf.numTrees, [10, 20, 30])\\\n",
    "    .addGrid(rf.maxDepth, [4, 8, 12])\\\n",
    "    .build()"
   ]
  },
  {
   "cell_type": "code",
   "execution_count": 33,
   "metadata": {},
   "outputs": [],
   "source": [
    "crossval = CrossValidator(estimator=pipeline, \n",
    "                          estimatorParamMaps=paramGrid, \n",
    "                          evaluator=MulticlassClassificationEvaluator(labelCol='indexedLabel', \n",
    "                                                                      predictionCol='prediction', \n",
    "                                                                      metricName='accuracy'), \n",
    "                          numFolds=3)"
   ]
  },
  {
   "cell_type": "code",
   "execution_count": 34,
   "metadata": {},
   "outputs": [
    {
     "name": "stdout",
     "output_type": "stream",
     "text": [
      "root\n",
      " |-- userId: string (nullable = true)\n",
      " |-- date: string (nullable = true)\n",
      " |-- ts: long (nullable = true)\n",
      " |-- multiState: integer (nullable = true)\n",
      " |-- cancel_user: long (nullable = true)\n",
      " |-- downgrade_period: long (nullable = true)\n",
      " |-- Male: integer (nullable = true)\n",
      " |-- Female: integer (nullable = true)\n",
      " |-- free: integer (nullable = true)\n",
      " |-- paid: integer (nullable = true)\n",
      " |-- DailySeconds: double (nullable = true)\n",
      " |-- DailyUse: long (nullable = false)\n",
      " |-- features: vector (nullable = true)\n",
      "\n"
     ]
    }
   ],
   "source": [
    "trainingData.printSchema()"
   ]
  },
  {
   "cell_type": "code",
   "execution_count": 35,
   "metadata": {},
   "outputs": [],
   "source": [
    "cvmodel = crossval.fit(trainingData)"
   ]
  },
  {
   "cell_type": "code",
   "execution_count": 36,
   "metadata": {},
   "outputs": [],
   "source": [
    "cv_pred = cvmodel.transform(testData)"
   ]
  },
  {
   "cell_type": "code",
   "execution_count": 37,
   "metadata": {},
   "outputs": [
    {
     "name": "stdout",
     "output_type": "stream",
     "text": [
      "root\n",
      " |-- userId: string (nullable = true)\n",
      " |-- date: string (nullable = true)\n",
      " |-- ts: long (nullable = true)\n",
      " |-- multiState: integer (nullable = true)\n",
      " |-- cancel_user: long (nullable = true)\n",
      " |-- downgrade_period: long (nullable = true)\n",
      " |-- Male: integer (nullable = true)\n",
      " |-- Female: integer (nullable = true)\n",
      " |-- free: integer (nullable = true)\n",
      " |-- paid: integer (nullable = true)\n",
      " |-- DailySeconds: double (nullable = true)\n",
      " |-- DailyUse: long (nullable = false)\n",
      " |-- features: vector (nullable = true)\n",
      " |-- indexedLabel: double (nullable = false)\n",
      " |-- indexedFeatures: vector (nullable = true)\n",
      " |-- rawPrediction: vector (nullable = true)\n",
      " |-- probability: vector (nullable = true)\n",
      " |-- prediction: double (nullable = false)\n",
      " |-- predictedLabel: string (nullable = true)\n",
      "\n"
     ]
    }
   ],
   "source": [
    "cv_pred.printSchema()"
   ]
  },
  {
   "cell_type": "markdown",
   "metadata": {},
   "source": [
    "# Testing MulticlassMetrics"
   ]
  },
  {
   "cell_type": "code",
   "execution_count": 38,
   "metadata": {},
   "outputs": [],
   "source": [
    "metrics = MulticlassMetrics(cv_pred.rdd.map(lambda x: (x.prediction, x.indexedLabel)))"
   ]
  },
  {
   "cell_type": "code",
   "execution_count": 39,
   "metadata": {},
   "outputs": [
    {
     "name": "stdout",
     "output_type": "stream",
     "text": [
      "Summary Stats\n",
      "Accuracy = 0.8698078024285316\n",
      "Precision = 0.8698078024285316\n",
      "Recall = 0.8698078024285316\n",
      "F1 Score = 0.8698078024285316\n"
     ]
    }
   ],
   "source": [
    "# Overall statistics\n",
    "accuracy = metrics.accuracy\n",
    "precision = metrics.precision()\n",
    "recall = metrics.recall()\n",
    "f1Score = metrics.fMeasure()\n",
    "print(\"Summary Stats\")\n",
    "print(\"Accuracy = %s\" % accuracy)\n",
    "print(\"Precision = %s\" % precision)\n",
    "print(\"Recall = %s\" % recall)\n",
    "print(\"F1 Score = %s\" % f1Score)"
   ]
  },
  {
   "cell_type": "code",
   "execution_count": 40,
   "metadata": {},
   "outputs": [
    {
     "name": "stdout",
     "output_type": "stream",
     "text": [
      "Weighted recall = 0.8698078024285316\n",
      "Weighted precision = 0.8858590725853408\n",
      "Weighted F(1) Score = 0.8307413824426383\n",
      "Weighted F(0.5) Score = 0.834000875749273\n",
      "Weighted false positive rate = 0.6758952095320233\n"
     ]
    }
   ],
   "source": [
    "# Weighted stats\n",
    "print(\"Weighted recall = %s\" % metrics.weightedRecall)\n",
    "print(\"Weighted precision = %s\" % metrics.weightedPrecision)\n",
    "print(\"Weighted F(1) Score = %s\" % metrics.weightedFMeasure())\n",
    "print(\"Weighted F(0.5) Score = %s\" % metrics.weightedFMeasure(beta=0.5))\n",
    "print(\"Weighted false positive rate = %s\" % metrics.weightedFalsePositiveRate)"
   ]
  },
  {
   "cell_type": "markdown",
   "metadata": {},
   "source": [
    "**Evaluation Metrics:**\n",
    "\n",
    "Accuracy: $\\frac{TP+TN}{TP+TN+FP+FN}$\n",
    "\n",
    "Precission: $\\frac{TP}{TP+FP}$\n",
    "\n",
    "Recall: $\\frac{TP}{TP+FN}$\n",
    "\n",
    "f1: $2 *\\frac{precision * recall}{precision + recall}$"
   ]
  }
 ],
 "metadata": {
  "hide_input": false,
  "kernelspec": {
   "display_name": "Python 3",
   "language": "python",
   "name": "python3"
  },
  "language_info": {
   "codemirror_mode": {
    "name": "ipython",
    "version": 3
   },
   "file_extension": ".py",
   "mimetype": "text/x-python",
   "name": "python",
   "nbconvert_exporter": "python",
   "pygments_lexer": "ipython3",
   "version": "3.7.1"
  },
  "toc": {
   "base_numbering": 1,
   "nav_menu": {
    "height": "475px",
    "width": "360.199px"
   },
   "number_sections": true,
   "sideBar": true,
   "skip_h1_title": false,
   "title_cell": "Table of Contents",
   "title_sidebar": "Contents",
   "toc_cell": false,
   "toc_position": {},
   "toc_section_display": true,
   "toc_window_display": false
  },
  "toc-autonumbering": true,
  "toc-showcode": false,
  "toc-showmarkdowntxt": true,
  "toc-showtags": false,
  "varInspector": {
   "cols": {
    "lenName": 16,
    "lenType": 16,
    "lenVar": 40
   },
   "kernels_config": {
    "python": {
     "delete_cmd_postfix": "",
     "delete_cmd_prefix": "del ",
     "library": "var_list.py",
     "varRefreshCmd": "print(var_dic_list())"
    },
    "r": {
     "delete_cmd_postfix": ") ",
     "delete_cmd_prefix": "rm(",
     "library": "var_list.r",
     "varRefreshCmd": "cat(var_dic_list()) "
    }
   },
   "types_to_exclude": [
    "module",
    "function",
    "builtin_function_or_method",
    "instance",
    "_Feature"
   ],
   "window_display": false
  }
 },
 "nbformat": 4,
 "nbformat_minor": 2
}
